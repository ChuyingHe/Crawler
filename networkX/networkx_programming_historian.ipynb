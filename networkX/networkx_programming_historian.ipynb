{
 "cells": [
  {
   "cell_type": "code",
   "execution_count": 2,
   "id": "committed-support",
   "metadata": {},
   "outputs": [],
   "source": [
    "import csv\n",
    "from operator import itemgetter\n",
    "import networkx as nx\n",
    "from networkx.algorithms import community\n",
    "\n",
    "import os"
   ]
  },
  {
   "cell_type": "code",
   "execution_count": 3,
   "id": "improving-cancellation",
   "metadata": {},
   "outputs": [
    {
     "data": {
      "text/plain": [
       "'/Users/chuyinghe/Documents/Crawler/networkX'"
      ]
     },
     "execution_count": 3,
     "metadata": {},
     "output_type": "execute_result"
    }
   ],
   "source": [
    "os.getcwd()"
   ]
  },
  {
   "cell_type": "code",
   "execution_count": 4,
   "id": "fixed-teens",
   "metadata": {},
   "outputs": [],
   "source": [
    "with open('quakers_nodelist.csv', 'r') as nodecsv:\n",
    "    nodereader = csv.reader(nodecsv)\n",
    "    # Retrieve the data (using Python list comprhension and list slicing to remove the header row, see footnote 3)\n",
    "    # list of LIST\n",
    "    nodes = [n for n in nodereader][1:]\n",
    "    \n",
    "node_names = [n[0] for n in nodes]\n",
    "\n",
    "with open('quakers_edgelist.csv', 'r') as edgecsv:\n",
    "    edgereader = csv.reader(edgecsv)\n",
    "    # list of TUPLE\n",
    "    edges = [tuple(e) for e in edgereader][1:]"
   ]
  },
  {
   "cell_type": "code",
   "execution_count": 5,
   "id": "crude-tissue",
   "metadata": {},
   "outputs": [
    {
     "name": "stdout",
     "output_type": "stream",
     "text": [
      "119\n",
      "174\n"
     ]
    }
   ],
   "source": [
    "print(len(node_names))\n",
    "print(len(edges))"
   ]
  },
  {
   "cell_type": "markdown",
   "id": "heated-radius",
   "metadata": {},
   "source": [
    "# 1. Creating the graph"
   ]
  },
  {
   "cell_type": "code",
   "execution_count": 19,
   "id": "confident-nursing",
   "metadata": {},
   "outputs": [],
   "source": [
    "# G = nx.Graph()\n",
    "G = nx.DiGraph()\n",
    "# Initialize a Graph object"
   ]
  },
  {
   "cell_type": "code",
   "execution_count": 20,
   "id": "turkish-iraqi",
   "metadata": {},
   "outputs": [],
   "source": [
    "G.add_nodes_from(node_names)\n",
    "G.add_edges_from(edges)"
   ]
  },
  {
   "cell_type": "code",
   "execution_count": 21,
   "id": "dutch-brook",
   "metadata": {},
   "outputs": [
    {
     "data": {
      "text/plain": [
       "OutEdgeView([('Joseph Wyeth', 'Thomas Ellwood'), ('Alexander Skene of Newtyle', 'Lilias Skene'), ('James Logan', 'John Bartram'), ('James Logan', 'William Penn'), ('James Logan', 'David Lloyd'), ('Dorcas Erbery', 'James Nayler'), ('William Mucklow', 'George Fox'), ('Thomas Salthouse', 'Margaret Fell'), ('William Dewsbury', 'Edward Burrough'), ('William Dewsbury', 'George Fox'), ('William Dewsbury', 'John Crook'), ('John Audland', 'John Camm'), ('John Audland', 'Francis Howgill'), ('John Audland', 'Edward Pyott'), ('John Audland', 'Charles Marshall'), ('John Audland', 'George Fox'), ('John Audland', 'Anne Camm'), ('William Bradford', 'William Penn'), ('William Bradford', 'Tace Sowle'), ('John Bellers', 'Fettiplace Bellers'), ('Isabel Yeamans', 'William Penn'), ('George Fox the younger', 'Margaret Fell'), ('George Fox', 'Ellis Hookes'), ('George Fox', 'William Mead'), ('George Fox', 'Elizabeth Hooten'), ('George Fox', 'Margaret Fell'), ('George Fox', 'John Crook'), ('George Fox', 'George Whitehead'), ('George Fox', 'Benjamin Furly'), ('George Fox', 'Thomas Salthouse'), ('George Fox', 'James Nayler'), ('George Fox', 'Edward Burrough'), ('George Fox', 'John Wilkinson'), ('George Fox', 'Thomas Ellwood'), ('George Fox', 'William Coddington'), ('George Fox', 'John Stubbs'), ('George Fox', 'John Perrot'), ('George Fox', 'Leonard Fell'), ('George Fox', 'William Penn'), ('John Stubbs', 'Benjamin Furly'), ('John Stubbs', 'William Caton'), ('John Stubbs', 'Samuel Fisher'), ('John Stubbs', 'John Burnyeat'), ('John Camm', 'Charles Marshall'), ('John Camm', 'Thomas Camm'), ('John Camm', 'Edward Pyott'), ('Thomas Camm', 'John Story'), ('Thomas Camm', 'Anne Camm'), ('Katharine Evans', 'Sarah Cheevers'), ('Lydia Lancaster', 'Grace Chamber'), ('Samuel Clarridge', 'James Claypoole'), ('Thomas Lower', 'Margaret Fell'), ('Gervase Benson', 'Anthony Pearson'), ('Stephen Crisp', 'William Caton'), ('Stephen Crisp', 'Benjamin Furly'), ('John Freame', 'David Barclay'), ('John Swinton', 'David Barclay of Ury'), ('William Mead', 'Margaret Fell'), ('Henry Pickworth', 'Francis Bugg'), ('John Crook', 'John Perrot'), ('John Crook', 'Edward Burrough'), ('Gilbert Latey', 'Edward Burrough'), ('Gilbert Latey', 'George Whitehead'), ('Joseph Besse', 'Richard Claridge'), ('Joseph Besse', 'Samuel Bownas'), ('James Nayler', 'Hannah Stranger'), ('James Nayler', 'Gervase Benson'), ('James Nayler', 'Margaret Fell'), ('James Nayler', 'Richard Farnworth'), ('James Nayler', 'George Whitehead'), ('James Nayler', 'John Perrot'), ('James Nayler', 'Robert Rich'), ('James Nayler', 'Anthony Pearson'), ('James Nayler', 'Thomas Ellwood'), ('James Nayler', 'Edward Burrough'), ('James Nayler', 'Rebecca Travers'), ('James Nayler', 'William Tomlinson'), ('George Whitehead', 'Alexander Parker'), ('George Whitehead', 'John Whitehead'), ('George Whitehead', 'Daniel Quare'), ('George Whitehead', 'William Penn'), ('George Whitehead', 'John Story'), ('George Whitehead', 'Rebecca Travers'), ('Benjamin Furly', 'Robert Barclay'), ('Benjamin Furly', 'Alexander Parker'), ('Benjamin Furly', 'William Caton'), ('Benjamin Furly', 'William Penn'), ('Silvanus Bevan', 'Daniel Quare'), ('Robert Rich', 'William Tomlinson'), ('John Whiting', 'Christopher Taylor'), ('Thomas Lawson', 'Margaret Fell'), ('Thomas Lawson', 'Alexander Parker'), ('Richard Farnworth', 'John Perrot'), ('Richard Farnworth', 'Margaret Fell'), ('Richard Farnworth', 'Anthony Pearson'), ('Thomas Taylor', 'Christopher Taylor'), ('Richard Vickris', 'George Bishop'), ('Robert Barclay', 'David Barclay of Ury'), ('Jane Sowle', 'Tace Sowle'), ('Margaret Fell', 'Alexander Parker'), ('Margaret Fell', 'Elizabeth Leavens'), ('Margaret Fell', 'Anthony Pearson'), ('Elizabeth Leavens', 'Thomas Holme'), ('Thomas Curtis', 'Thomas Ellwood'), ('Thomas Curtis', 'William Simpson'), ('Thomas Curtis', 'John Story'), ('Alexander Parker', 'Sir Charles Wager'), ('John Wilkinson', 'Charles Marshall'), ('John Wilkinson', 'Solomon Eccles'), ('John Wilkinson', 'John Story'), ('John Wilkinson', 'Alexander Parker'), ('Thomas Aldam', 'Anthony Pearson'), ('George Keith', 'Robert Barclay'), ('George Keith', 'Benjamin Furly'), ('George Keith', 'Anne Conway Viscountess Conway and Killultagh'), ('George Keith', 'Franciscus Mercurius van Helmont'), ('George Keith', 'William Penn'), ('George Keith', 'George Fox'), ('George Keith', 'George Whitehead'), ('George Keith', 'William Bradford'), ('James Parnel', 'Benjamin Furly'), ('James Parnel', 'Stephen Crisp'), ('Peter Collinson', 'John Bartram'), ('Peter Collinson', 'James Logan'), ('Franciscus Mercurius van Helmont', 'Benjamin Furly'), ('William Caton', 'Margaret Fell'), ('Francis Howgill', 'Martha Simmonds'), ('Francis Howgill', 'James Nayler'), ('Francis Howgill', 'Edward Burrough'), ('Francis Howgill', 'George Fox'), ('Francis Howgill', 'Richard Farnworth'), ('Francis Howgill', 'William Crouch'), ('Richard Hubberthorne', 'George Whitehead'), ('Richard Hubberthorne', 'Richard Farnworth'), ('William Ames', 'William Caton'), ('William Rogers', 'Thomas Ellwood'), ('William Rogers', 'George Whitehead'), ('Isaac Norris', 'William Penn'), ('Anthony Sharp', 'Samuel Clarridge'), ('Anthony Sharp', 'Thomas Curtis'), ('Anthony Sharp', 'William Edmundson'), ('Mary Fisher', 'John Perrot'), ('Mary Fisher', 'Mary Prince'), ('Francis Bugg', 'George Whitehead'), ('Sarah Gibbons', 'Dorothy Waugh'), ('Humphrey Norton', 'John Rous'), ('William Gibson', 'Thomas Holme'), ('Gideon Wanton', 'John Wanton'), ('Mary Prince', 'John Perrot'), ('Edward Haistwell', 'William Penn'), ('John ap John', 'John Burnyeat'), ('Solomon Eccles', 'John Story'), ('John Burnyeat', 'William Edmundson'), ('John Burnyeat', 'William Penn'), ('Edward Burrough', 'John Perrot'), ('Edward Burrough', 'Thomas Ellwood'), ('Edward Burrough', 'William Crouch'), ('Rebecca Travers', 'Alice Curwen'), ('Rebecca Travers', 'William Penn'), ('John Penington', 'Mary Penington'), ('Mary Penington', 'Thomas Curtis'), ('Mary Penington', 'Thomas Ellwood'), ('Humphrey Woolrich', 'Mary Pennyman'), ('William Penn', 'Tace Sowle'), ('William Penn', 'James Claypoole'), ('William Penn', 'Thomas Story'), ('William Penn', 'Mary Penington'), ('William Penn', 'David Lloyd'), ('William Penn', 'Margaret Fell'), ('William Penn', 'Richard Claridge'), ('Lewis Morris', 'Sir Charles Wager'), ('Martha Simmonds', 'Hannah Stranger'), ('Martha Simmonds', 'James Nayler'), ('John Story', 'Thomas Ellwood')])"
      ]
     },
     "execution_count": 21,
     "metadata": {},
     "output_type": "execute_result"
    }
   ],
   "source": [
    "G.edges"
   ]
  },
  {
   "cell_type": "code",
   "execution_count": 31,
   "id": "optional-marriage",
   "metadata": {},
   "outputs": [
    {
     "data": {
      "text/plain": [
       "NodeView(('Joseph Wyeth', 'Alexander Skene of Newtyle', 'James Logan', 'Dorcas Erbery', 'Lilias Skene', 'William Mucklow', 'Thomas Salthouse', 'William Dewsbury', 'John Audland', 'Richard Claridge', 'William Bradford', 'Fettiplace Bellers', 'John Bellers', 'Isabel Yeamans', 'George Fox the younger', 'George Fox', 'John Stubbs', 'Anne Camm', 'John Camm', 'Thomas Camm', 'Katharine Evans', 'Lydia Lancaster', 'Samuel Clarridge', 'Thomas Lower', 'Gervase Benson', 'Stephen Crisp', 'James Claypoole', 'Thomas Holme', 'John Freame', 'John Swinton', 'William Mead', 'Henry Pickworth', 'John Crook', 'Gilbert Latey', 'Ellis Hookes', 'Joseph Besse', 'James Nayler', 'Elizabeth Hooten', 'George Whitehead', 'John Whitehead', 'William Crouch', 'Benjamin Furly', 'Silvanus Bevan', 'Robert Rich', 'John Whiting', 'Christopher Taylor', 'Thomas Lawson', 'Richard Farnworth', 'William Coddington', 'Thomas Taylor', 'Richard Vickris', 'Robert Barclay', 'Jane Sowle', 'Tace Sowle', 'Leonard Fell', 'Margaret Fell', 'George Bishop', 'Elizabeth Leavens', 'Thomas Curtis', 'Alice Curwen', 'Alexander Parker', 'John Wilkinson', 'Thomas Aldam', 'David Barclay of Ury', 'David Barclay', 'Sir Charles Wager', 'George Keith', 'James Parnel', 'Peter Collinson', 'Franciscus Mercurius van Helmont', 'William Caton', 'Francis Howgill', 'Richard Hubberthorne', 'William Ames', 'William Rogers', 'Isaac Norris', 'Anthony Sharp', 'Mary Fisher', 'Anne Conway Viscountess Conway and Killultagh', 'Samuel Fisher', 'Francis Bugg', 'Sarah Gibbons', 'William Tomlinson', 'Humphrey Norton', 'William Gibson', 'Gideon Wanton', 'John Wanton', 'Grace Chamber', 'Mary Prince', 'John Bartram', 'Edward Haistwell', 'John ap John', 'John Rous', 'Anthony Pearson', 'Solomon Eccles', 'John Burnyeat', 'Edward Burrough', 'Rebecca Travers', 'William Edmundson', 'Sarah Cheevers', 'Edward Pyott', 'Daniel Quare', 'John Penington', 'Mary Penington', 'Charles Marshall', 'Humphrey Woolrich', 'William Penn', 'Mary Pennyman', 'Dorothy Waugh', 'David Lloyd', 'Lewis Morris', 'Martha Simmonds', 'John Story', 'Thomas Story', 'Thomas Ellwood', 'William Simpson', 'Samuel Bownas', 'John Perrot', 'Hannah Stranger'))"
      ]
     },
     "execution_count": 31,
     "metadata": {},
     "output_type": "execute_result"
    }
   ],
   "source": [
    "G.nodes"
   ]
  },
  {
   "cell_type": "code",
   "execution_count": 22,
   "id": "imperial-slovakia",
   "metadata": {},
   "outputs": [
    {
     "name": "stdout",
     "output_type": "stream",
     "text": [
      "Name: \n",
      "Type: DiGraph\n",
      "Number of nodes: 119\n",
      "Number of edges: 174\n",
      "Average in degree:   1.4622\n",
      "Average out degree:   1.4622\n"
     ]
    }
   ],
   "source": [
    "print(nx.info(G))\n",
    "# Average degree: average number of connections fo each node"
   ]
  },
  {
   "cell_type": "markdown",
   "id": "acquired-german",
   "metadata": {},
   "source": [
    "# 2. Adding attributes (for nodes & edges)"
   ]
  },
  {
   "cell_type": "code",
   "execution_count": 23,
   "id": "strategic-mineral",
   "metadata": {},
   "outputs": [],
   "source": [
    "hist_sig_dict = {}\n",
    "gender_dict = {}\n",
    "birth_dict = {}\n",
    "death_dict = {}\n",
    "id_dict = {}\n",
    "# attribute data to be in the form of a Python dictionary"
   ]
  },
  {
   "cell_type": "code",
   "execution_count": 24,
   "id": "grave-sequence",
   "metadata": {},
   "outputs": [],
   "source": [
    "for node in nodes:\n",
    "    hist_sig_dict[node[0]] = node[1]\n",
    "    gender_dict[node[0]] = node[2]\n",
    "    birth_dict[node[0]] = node[3]\n",
    "    death_dict[node[0]] = node[4]\n",
    "    id_dict[node[0]] = node[5]\n",
    "# loop through our nodes list and add the appropriate items to each dictionary."
   ]
  },
  {
   "cell_type": "code",
   "execution_count": 25,
   "id": "changing-gentleman",
   "metadata": {},
   "outputs": [
    {
     "name": "stdout",
     "output_type": "stream",
     "text": [
      "['Alexander Skene of Newtyle', 'local politician and author', 'male', '1621', '1694', '10011149']\n"
     ]
    }
   ],
   "source": [
    "print(nodes[1])"
   ]
  },
  {
   "cell_type": "code",
   "execution_count": 30,
   "id": "historic-amount",
   "metadata": {},
   "outputs": [
    {
     "data": {
      "text/plain": [
       "{'Joseph Wyeth': 'religious writer',\n",
       " 'Alexander Skene of Newtyle': 'local politician and author',\n",
       " 'James Logan': 'colonial official and scholar',\n",
       " 'Dorcas Erbery': 'Quaker preacher',\n",
       " 'Lilias Skene': 'Quaker preacher and poet',\n",
       " 'William Mucklow': 'religious writer',\n",
       " 'Thomas Salthouse': 'Quaker preacher and writer',\n",
       " 'William Dewsbury': 'Quaker activist',\n",
       " 'John Audland': 'Quaker preacher',\n",
       " 'Richard Claridge': 'Quaker minister and schoolmaster',\n",
       " 'William Bradford': 'printer',\n",
       " 'Fettiplace Bellers': 'philosophical writer and playwright',\n",
       " 'John Bellers': 'political economist and cloth merchant',\n",
       " 'Isabel Yeamans': 'Quaker preacher',\n",
       " 'George Fox the younger': 'religious writer',\n",
       " 'George Fox': ' a founder of the Religious Society of Friends (Quakers)',\n",
       " 'John Stubbs': 'Quaker minister',\n",
       " 'Anne Camm': 'Quaker preacher',\n",
       " 'John Camm': 'Quaker preacher',\n",
       " 'Thomas Camm': 'Quaker preacher and writer',\n",
       " 'Katharine Evans': 'Quaker missionary',\n",
       " 'Lydia Lancaster': 'Quaker minister',\n",
       " 'Samuel Clarridge': 'Quaker activist',\n",
       " 'Thomas Lower': 'Quaker activist and physician',\n",
       " 'Gervase Benson': 'Quaker leader',\n",
       " 'Stephen Crisp': 'Quaker activist and writer',\n",
       " 'James Claypoole': 'merchant and pioneer settler in America',\n",
       " 'Thomas Holme': 'Quaker missionary',\n",
       " 'John Freame': 'banker and lobbyist',\n",
       " 'John Swinton': 'politician',\n",
       " 'William Mead': 'Quaker patron and merchant',\n",
       " 'Henry Pickworth': 'religious controversialist',\n",
       " 'John Crook': 'Quaker leader and writer',\n",
       " 'Gilbert Latey': 'Quaker activist',\n",
       " 'Ellis Hookes': 'Quaker administrator',\n",
       " 'Joseph Besse': 'historian of Quakerism',\n",
       " 'James Nayler': 'Quaker preacher and writer',\n",
       " 'Elizabeth Hooten': 'Quaker preacher',\n",
       " 'George Whitehead': 'Quaker leader and writer',\n",
       " 'John Whitehead': 'Quaker minister and preacher',\n",
       " 'William Crouch': 'Quaker leader and writer',\n",
       " 'Benjamin Furly': 'merchant and religious writer',\n",
       " 'Silvanus Bevan': 'apothecary',\n",
       " 'Robert Rich': 'Quaker adherent and sectary',\n",
       " 'John Whiting': 'Quaker bibliographer and writer',\n",
       " 'Christopher Taylor': 'religious writer and schoolmaster',\n",
       " 'Thomas Lawson': 'Quaker minister and botanist',\n",
       " 'Richard Farnworth': 'Quaker preacher and writer',\n",
       " 'William Coddington': 'merchant and official in America',\n",
       " 'Thomas Taylor': 'Quaker minister and writer',\n",
       " 'Richard Vickris': 'religious writer',\n",
       " 'Robert Barclay': 'religious writer and colonial governor',\n",
       " 'Jane Sowle': '',\n",
       " 'Tace Sowle': 'printer and bookseller',\n",
       " 'Leonard Fell': 'Quaker missionary and writer',\n",
       " 'Margaret Fell': 'Quaker leader',\n",
       " 'George Bishop': 'government official and religious writer',\n",
       " 'Elizabeth Leavens': 'Quaker missionary',\n",
       " 'Thomas Curtis': 'Quaker schismatic',\n",
       " 'Alice Curwen': 'Quaker missionary',\n",
       " 'Alexander Parker': 'Quaker preacher and author',\n",
       " 'John Wilkinson': 'Quaker schismatic',\n",
       " 'Thomas Aldam': 'Quaker preacher and writer',\n",
       " 'David Barclay of Ury': 'soldier and politician',\n",
       " 'David Barclay': 'merchant',\n",
       " 'Sir Charles Wager': 'naval officer and politician',\n",
       " 'George Keith': 'Quaker schismatic and Church of England clergyman',\n",
       " 'James Parnel': 'Quaker martyr',\n",
       " 'Peter Collinson': 'botanist',\n",
       " 'Franciscus Mercurius van Helmont': 'physician and cabbalist',\n",
       " 'William Caton': 'Quaker preacher',\n",
       " 'Francis Howgill': 'Quaker activist',\n",
       " 'Richard Hubberthorne': 'Quaker activist',\n",
       " 'William Ames': 'Quaker preacher',\n",
       " 'William Rogers': 'Quaker schismatic',\n",
       " 'Isaac Norris': 'colonial official and merchant',\n",
       " 'Anthony Sharp': 'Quaker leader',\n",
       " 'Mary Fisher': 'Quaker missionary',\n",
       " 'Anne Conway Viscountess Conway and Killultagh': 'philosopher',\n",
       " 'Samuel Fisher': 'Quaker preacher and writer',\n",
       " 'Francis Bugg': 'Quaker apostate',\n",
       " 'Sarah Gibbons': 'Quaker preacher in America',\n",
       " 'William Tomlinson': 'religious writer',\n",
       " 'Humphrey Norton': 'Quaker missionary and author',\n",
       " 'William Gibson': 'Quaker leader',\n",
       " 'Gideon Wanton': 'merchant and colonial governor',\n",
       " 'John Wanton': 'merchant and colonial governor',\n",
       " 'Grace Chamber': 'Quaker minister',\n",
       " 'Mary Prince': 'Quaker preacher',\n",
       " 'John Bartram': 'botanist and explorer in America',\n",
       " 'Edward Haistwell': 'merchant',\n",
       " 'John ap John': 'Quaker leader',\n",
       " 'John Rous': 'Quaker missionary',\n",
       " 'Anthony Pearson': 'Quaker administrator',\n",
       " 'Solomon Eccles': 'musician and Quaker missionary',\n",
       " 'John Burnyeat': 'Quaker minister',\n",
       " 'Edward Burrough': 'Quaker activist and writer',\n",
       " 'Rebecca Travers': 'Quaker preacher and writer',\n",
       " 'William Edmundson': 'Quaker leader',\n",
       " 'Sarah Cheevers': 'Quaker missionary',\n",
       " 'Edward Pyott': 'parliamentarian army officer',\n",
       " 'Daniel Quare': 'maker of clocks, watches, and barometers',\n",
       " 'John Penington': 'Quaker apologist and controversialist',\n",
       " 'Mary Penington': 'Quaker and writer',\n",
       " 'Charles Marshall': 'Quaker preacher and apothecary',\n",
       " 'Humphrey Woolrich': 'religious writer',\n",
       " 'William Penn': 'Quaker leader and founder of Pennsylvania',\n",
       " 'Mary Pennyman': '',\n",
       " 'Dorothy Waugh': 'Quaker preacher',\n",
       " 'David Lloyd': 'lawyer and politician in America',\n",
       " 'Lewis Morris': 'politician in America',\n",
       " 'Martha Simmonds': 'Quaker and author',\n",
       " 'John Story': 'Quaker schismatic',\n",
       " 'Thomas Story': 'Quaker minister and journal writer',\n",
       " 'Thomas Ellwood': 'religious controversialist',\n",
       " 'William Simpson': 'Quaker preacher',\n",
       " 'Samuel Bownas': 'Quaker minister and writer',\n",
       " 'John Perrot': 'Quaker schismatic',\n",
       " 'Hannah Stranger': 'Quaker missionary'}"
      ]
     },
     "execution_count": 30,
     "metadata": {},
     "output_type": "execute_result"
    }
   ],
   "source": [
    "hist_sig_dict"
   ]
  },
  {
   "cell_type": "code",
   "execution_count": 27,
   "id": "polished-aluminum",
   "metadata": {},
   "outputs": [],
   "source": [
    "nx.set_node_attributes(G, hist_sig_dict, 'historical_significance')\n",
    "nx.set_node_attributes(G, gender_dict, 'gender')\n",
    "nx.set_node_attributes(G, birth_dict, 'birth_year')\n",
    "nx.set_node_attributes(G, death_dict, 'death_year')\n",
    "nx.set_node_attributes(G, id_dict, 'sdfb_id')"
   ]
  },
  {
   "cell_type": "code",
   "execution_count": 28,
   "id": "based-suggestion",
   "metadata": {},
   "outputs": [
    {
     "name": "stdout",
     "output_type": "stream",
     "text": [
      "Joseph Wyeth 1663\n",
      "Alexander Skene of Newtyle 1621\n",
      "James Logan 1674\n",
      "Dorcas Erbery 1656\n",
      "Lilias Skene 1626\n",
      "William Mucklow 1630\n",
      "Thomas Salthouse 1630\n",
      "William Dewsbury 1621\n",
      "John Audland 1630\n",
      "Richard Claridge 1649\n",
      "William Bradford 1663\n",
      "Fettiplace Bellers 1687\n",
      "John Bellers 1654\n",
      "Isabel Yeamans 1637\n",
      "George Fox the younger 1551\n",
      "George Fox 1624\n",
      "John Stubbs 1618\n",
      "Anne Camm 1627\n",
      "John Camm 1605\n",
      "Thomas Camm 1640\n",
      "Katharine Evans 1618\n",
      "Lydia Lancaster 1683\n",
      "Samuel Clarridge 1631\n",
      "Thomas Lower 1633\n",
      "Gervase Benson 1569\n",
      "Stephen Crisp 1628\n",
      "James Claypoole 1634\n",
      "Thomas Holme 1626\n",
      "John Freame 1665\n",
      "John Swinton 1620\n",
      "William Mead 1627\n",
      "Henry Pickworth 1673\n",
      "John Crook 1616\n",
      "Gilbert Latey 1626\n",
      "Ellis Hookes 1635\n",
      "Joseph Besse 1683\n",
      "James Nayler 1618\n",
      "Elizabeth Hooten 1562\n",
      "George Whitehead 1637\n",
      "John Whitehead 1630\n",
      "William Crouch 1628\n",
      "Benjamin Furly 1636\n",
      "Silvanus Bevan 1691\n",
      "Robert Rich 1607\n",
      "John Whiting 1656\n",
      "Christopher Taylor 1614\n",
      "Thomas Lawson 1630\n",
      "Richard Farnworth 1630\n",
      "William Coddington 1601\n",
      "Thomas Taylor 1617\n",
      "Richard Vickris 1590\n",
      "Robert Barclay 1648\n",
      "Jane Sowle 1631\n",
      "Tace Sowle 1666\n",
      "Leonard Fell 1624\n",
      "Margaret Fell 1614\n",
      "George Bishop 1558\n",
      "Elizabeth Leavens 1555\n",
      "Thomas Curtis 1602\n",
      "Alice Curwen 1619\n",
      "Alexander Parker 1628\n",
      "John Wilkinson 1652\n",
      "Thomas Aldam 1616\n",
      "David Barclay of Ury 1610\n",
      "David Barclay 1682\n",
      "Sir Charles Wager 1666\n",
      "George Keith 1638\n",
      "James Parnel 1636\n",
      "Peter Collinson 1694\n",
      "Franciscus Mercurius van Helmont 1614\n",
      "William Caton 1636\n",
      "Francis Howgill 1618\n",
      "Richard Hubberthorne 1628\n",
      "William Ames 1552\n",
      "William Rogers 1601\n",
      "Isaac Norris 1671\n",
      "Anthony Sharp 1643\n",
      "Mary Fisher 1623\n",
      "Anne Conway Viscountess Conway and Killultagh 1631\n",
      "Samuel Fisher 1604\n",
      "Francis Bugg 1640\n",
      "Sarah Gibbons 1634\n",
      "William Tomlinson 1650\n",
      "Humphrey Norton 1655\n",
      "William Gibson 1628\n",
      "Gideon Wanton 1693\n",
      "John Wanton 1672\n",
      "Grace Chamber 1676\n",
      "Mary Prince 1569\n",
      "John Bartram 1699\n",
      "Edward Haistwell 1658\n",
      "John ap John 1625\n",
      "John Rous 1585\n",
      "Anthony Pearson 1627\n",
      "Solomon Eccles 1617\n",
      "John Burnyeat 1631\n",
      "Edward Burrough 1633\n",
      "Rebecca Travers 1609\n",
      "William Edmundson 1627\n",
      "Sarah Cheevers 1608\n",
      "Edward Pyott 1560\n",
      "Daniel Quare 1648\n",
      "John Penington 1655\n",
      "Mary Penington 1623\n",
      "Charles Marshall 1637\n",
      "Humphrey Woolrich 1633\n",
      "William Penn 1644\n",
      "Mary Pennyman 1630\n",
      "Dorothy Waugh 1636\n",
      "David Lloyd 1656\n",
      "Lewis Morris 1671\n",
      "Martha Simmonds 1624\n",
      "John Story 1571\n",
      "Thomas Story 1670\n",
      "Thomas Ellwood 1639\n",
      "William Simpson 1627\n",
      "Samuel Bownas 1677\n",
      "John Perrot 1555\n",
      "Hannah Stranger 1656\n"
     ]
    }
   ],
   "source": [
    "for n in G.nodes():\n",
    "    print(n, G.nodes[n]['birth_year'])\n",
    "# print out all the birth years of your nodes\n",
    "# ⚠️ 所以node本身还是那个ID，并不是一个带所有attribute的list"
   ]
  },
  {
   "cell_type": "code",
   "execution_count": 29,
   "id": "opposed-compiler",
   "metadata": {},
   "outputs": [
    {
     "data": {
      "image/png": "[encoded data removed]",
      "text/plain": [
       "<Figure size 432x288 with 1 Axes>"
      ]
     },
     "metadata": {},
     "output_type": "display_data"
    }
   ],
   "source": [
    "nx.draw(G)"
   ]
  },
  {
   "cell_type": "markdown",
   "id": "seven-swimming",
   "metadata": {},
   "source": [
    "# 3. Metrics in NetworkX"
   ]
  },
  {
   "cell_type": "code",
   "execution_count": null,
   "id": "stainless-jungle",
   "metadata": {},
   "outputs": [],
   "source": []
  },
  {
   "cell_type": "markdown",
   "id": "romance-gothic",
   "metadata": {},
   "source": [
    "## 3.1. Shape"
   ]
  },
  {
   "cell_type": "code",
   "execution_count": null,
   "id": "durable-madonna",
   "metadata": {},
   "outputs": [],
   "source": []
  },
  {
   "cell_type": "markdown",
   "id": "smooth-career",
   "metadata": {},
   "source": [
    "## 3.2 Centrality"
   ]
  },
  {
   "cell_type": "code",
   "execution_count": null,
   "id": "altered-adaptation",
   "metadata": {},
   "outputs": [],
   "source": []
  },
  {
   "cell_type": "markdown",
   "id": "large-smart",
   "metadata": {},
   "source": [
    "# 4. Advanced NetworkX: Community detection with modularity"
   ]
  },
  {
   "cell_type": "code",
   "execution_count": null,
   "id": "patient-jason",
   "metadata": {},
   "outputs": [],
   "source": []
  }
 ],
 "metadata": {
  "kernelspec": {
   "display_name": "Python 3",
   "language": "python",
   "name": "python3"
  },
  "language_info": {
   "codemirror_mode": {
    "name": "ipython",
    "version": 3
   },
   "file_extension": ".py",
   "mimetype": "text/x-python",
   "name": "python",
   "nbconvert_exporter": "python",
   "pygments_lexer": "ipython3",
   "version": "3.8.1"
  }
 },
 "nbformat": 4,
 "nbformat_minor": 5
}
