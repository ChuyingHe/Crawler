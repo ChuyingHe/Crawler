{
 "cells": [
  {
   "cell_type": "code",
   "execution_count": 3,
   "id": "completed-candy",
   "metadata": {},
   "outputs": [
    {
     "name": "stdout",
     "output_type": "stream",
     "text": [
      "Requirement already satisfied: pandas in /Users/chuyinghe/.pyenv/versions/3.8.1/lib/python3.8/site-packages (1.2.0)\n",
      "Requirement already satisfied: numpy>=1.16.5 in /Users/chuyinghe/.pyenv/versions/3.8.1/lib/python3.8/site-packages (from pandas) (1.19.0)\n",
      "Requirement already satisfied: pytz>=2017.3 in /Users/chuyinghe/.pyenv/versions/3.8.1/lib/python3.8/site-packages (from pandas) (2020.5)\n",
      "Requirement already satisfied: python-dateutil>=2.7.3 in /Users/chuyinghe/.pyenv/versions/3.8.1/lib/python3.8/site-packages (from pandas) (2.8.1)\n",
      "Requirement already satisfied: six>=1.5 in /Users/chuyinghe/.pyenv/versions/3.8.1/lib/python3.8/site-packages (from python-dateutil>=2.7.3->pandas) (1.15.0)\n",
      "Collecting networkx\n",
      "  Downloading networkx-2.5-py3-none-any.whl (1.6 MB)\n",
      "\u001b[K     |████████████████████████████████| 1.6 MB 3.2 MB/s eta 0:00:01\n",
      "\u001b[?25hRequirement already satisfied: decorator>=4.3.0 in /Users/chuyinghe/.pyenv/versions/3.8.1/lib/python3.8/site-packages (from networkx) (4.4.2)\n",
      "Installing collected packages: networkx\n",
      "Successfully installed networkx-2.5\n"
     ]
    }
   ],
   "source": [
    "!pip install pandas\n",
    "!pip install networkx"
   ]
  },
  {
   "cell_type": "code",
   "execution_count": 5,
   "id": "continued-reply",
   "metadata": {},
   "outputs": [],
   "source": [
    "import pandas as pd\n",
    "import networkx as nx\n",
    "import json"
   ]
  },
  {
   "cell_type": "markdown",
   "id": "moved-shopper",
   "metadata": {},
   "source": [
    "### Sample of  Comment\n",
    "This is a sample comment get from this [video](https://www.bilibili.com/video/BV1Cf4y1y7KX).\n",
    "\n",
    "```json\n",
    "{\"rpid\": 3947762863, \"oid\": 286054084, \"type\": 1, \"mid\": 192384342, \"root\": 0, \"parent\": 0, \"dialog\": 0, \"count\": 0, \"rcount\": 0, \"state\": 0, \"fansgrade\": 0, \"attr\": 0, \"ctime\": 1610558582, \"rpid_str\": \"3947762863\", \"root_str\": \"0\", \"parent_str\": \"0\", \"like\": 0, \"action\": 0, \"member\": {\"mid\": \"192384342\", \"uname\": \"\\u5f20\\u542f\\u5c71_-\", \"sex\": \"\\u4fdd\\u5bc6\", \"sign\": \"\\u4f60\\u7ad9\\u5728\\u94c1\\u8f68\\u4e0a\\u4e0d\\u8981\\u8d70\\u52a8 \\u6211\\u53bb\\u628a\\u706b\\u8f66\\u5f00\\u8fc7\\u6765 \\u9001\\u4f60\\u53bb\\u89c1\\u6731\\u81ea\\u6e05.\", \"avatar\": \"http://i1.hdslb.com/bfs/face/a117987f0b91311998283b9d8a014471ccb12aa1.jpg\", \"rank\": \"10000\", \"DisplayRank\": \"0\", \"level_info\": {\"current_level\": 4, \"current_min\": 0, \"current_exp\": 0, \"next_exp\": 0}, \"pendant\": {\"pid\": 3641, \"name\": \"\\u667a\\u6167\\u4e3b\\u4e49\\u5f88\\u4e0a\\u5934\", \"image\": \"http://i0.hdslb.com/bfs/garb/item/b1c552d9a948cb2da5629281da674a8221cd7154.png\", \"expire\": 0, \"image_enhance\": \"http://i0.hdslb.com/bfs/garb/item/b1c552d9a948cb2da5629281da674a8221cd7154.png\", \"image_enhance_frame\": \"\"}, \"nameplate\": {\"nid\": 57, \"name\": \"\\u6536\\u96c6\\u840c\\u65b0\", \"image\": \"http://i2.hdslb.com/bfs/face/7767275600ea63d351b22fa87ec15a79aa24e5e5.png\", \"image_small\": \"http://i1.hdslb.com/bfs/face/6589d992655595bf51543f268040eaeaed372fae.png\", \"level\": \"\\u666e\\u901a\\u52cb\\u7ae0\", \"condition\": \"\\u540c\\u65f6\\u62e5\\u6709\\u7c89\\u4e1d\\u52cb\\u7ae0>=5\\u4e2a\"}, \"official_verify\": {\"type\": -1, \"desc\": \"\"}, \"vip\": {\"vipType\": 1, \"vipDueDate\": 1612195200000, \"dueRemark\": \"\", \"accessStatus\": 0, \"vipStatus\": 1, \"vipStatusWarn\": \"\", \"themeType\": 0, \"label\": {\"path\": \"\", \"text\": \"\\u5927\\u4f1a\\u5458\", \"label_theme\": \"vip\"}}, \"fans_detail\": null, \"following\": 0, \"is_followed\": 0, \"user_sailing\": {\"pendant\": {\"id\": 3641, \"name\": \"\\u667a\\u6167\\u4e3b\\u4e49\\u5f88\\u4e0a\\u5934\", \"image\": \"http://i0.hdslb.com/bfs/garb/item/b1c552d9a948cb2da5629281da674a8221cd7154.png\", \"jump_url\": \"\", \"type\": \"pay\", \"image_enhance\": \"http://i0.hdslb.com/bfs/garb/item/b1c552d9a948cb2da5629281da674a8221cd7154.png\", \"image_enhance_frame\": \"\"}, \"cardbg\": null, \"cardbg_with_focus\": null}}, \"content\": {\"message\": \"\\u7cbe\\u5370\\uff1a%**%#+*\", \"plat\": 3, \"device\": \"phone\", \"members\": [], \"jump_url\": {}, \"max_line\": 6}, \"replies\": null, \"assist\": 0, \"folder\": {\"has_folded\": false, \"is_folded\": false, \"rule\": \"https://www.bilibili.com/blackboard/foldingreply.html\"}, \"up_action\": {\"like\": false, \"reply\": false}, \"show_follow\": false, \"invisible\": false}\n",
    "```\n",
    "\n",
    "### Structure of  Comment\n",
    "In order to gain an overview of the structure of the data, convert json to tree using this [tool](https://vanya.jp.net/vtree/):\n",
    "![structure-of-comment](data/data[1].svg)\n",
    "\n"
   ]
  },
  {
   "cell_type": "code",
   "execution_count": null,
   "id": "inside-reducing",
   "metadata": {},
   "outputs": [],
   "source": []
  },
  {
   "cell_type": "code",
   "execution_count": null,
   "id": "absent-middle",
   "metadata": {},
   "outputs": [],
   "source": []
  }
 ],
 "metadata": {
  "kernelspec": {
   "display_name": "Python 3",
   "language": "python",
   "name": "python3"
  },
  "language_info": {
   "codemirror_mode": {
    "name": "ipython",
    "version": 3
   },
   "file_extension": ".py",
   "mimetype": "text/x-python",
   "name": "python",
   "nbconvert_exporter": "python",
   "pygments_lexer": "ipython3",
   "version": "3.8.1"
  }
 },
 "nbformat": 4,
 "nbformat_minor": 5
}
