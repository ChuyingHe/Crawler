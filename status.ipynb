{
 "cells": [
  {
   "cell_type": "code",
   "execution_count": 3,
   "id": "completed-candy",
   "metadata": {},
   "outputs": [
    {
     "name": "stdout",
     "output_type": "stream",
     "text": [
      "Requirement already satisfied: pandas in /Users/chuyinghe/.pyenv/versions/3.8.1/lib/python3.8/site-packages (1.2.0)\n",
      "Requirement already satisfied: numpy>=1.16.5 in /Users/chuyinghe/.pyenv/versions/3.8.1/lib/python3.8/site-packages (from pandas) (1.19.0)\n",
      "Requirement already satisfied: pytz>=2017.3 in /Users/chuyinghe/.pyenv/versions/3.8.1/lib/python3.8/site-packages (from pandas) (2020.5)\n",
      "Requirement already satisfied: python-dateutil>=2.7.3 in /Users/chuyinghe/.pyenv/versions/3.8.1/lib/python3.8/site-packages (from pandas) (2.8.1)\n",
      "Requirement already satisfied: six>=1.5 in /Users/chuyinghe/.pyenv/versions/3.8.1/lib/python3.8/site-packages (from python-dateutil>=2.7.3->pandas) (1.15.0)\n",
      "Collecting networkx\n",
      "  Downloading networkx-2.5-py3-none-any.whl (1.6 MB)\n",
      "\u001b[K     |████████████████████████████████| 1.6 MB 3.2 MB/s eta 0:00:01\n",
      "\u001b[?25hRequirement already satisfied: decorator>=4.3.0 in /Users/chuyinghe/.pyenv/versions/3.8.1/lib/python3.8/site-packages (from networkx) (4.4.2)\n",
      "Installing collected packages: networkx\n",
      "Successfully installed networkx-2.5\n"
     ]
    }
   ],
   "source": [
    "!pip install pandas\n",
    "!pip install networkx"
   ]
  },
  {
   "cell_type": "code",
   "execution_count": 2,
   "id": "continued-reply",
   "metadata": {},
   "outputs": [],
   "source": [
    "import pandas as pd\n",
    "import networkx as nx\n",
    "import json"
   ]
  },
  {
   "cell_type": "markdown",
   "id": "moved-shopper",
   "metadata": {},
   "source": [
    "### Sample of  Comment\n",
    "This is a sample comment get from this [video](https://www.bilibili.com/video/BV1Cf4y1y7KX).\n",
    "\n",
    "```json\n",
    "{\"rpid\": 3947762863, \"oid\": 286054084, \"type\": 1, \"mid\": 192384342, \"root\": 0, \"parent\": 0, \"dialog\": 0, \"count\": 0, \"rcount\": 0, \"state\": 0, \"fansgrade\": 0, \"attr\": 0, \"ctime\": 1610558582, \"rpid_str\": \"3947762863\", \"root_str\": \"0\", \"parent_str\": \"0\", \"like\": 0, \"action\": 0, \"member\": {\"mid\": \"192384342\", \"uname\": \"\\u5f20\\u542f\\u5c71_-\", \"sex\": \"\\u4fdd\\u5bc6\", \"sign\": \"\\u4f60\\u7ad9\\u5728\\u94c1\\u8f68\\u4e0a\\u4e0d\\u8981\\u8d70\\u52a8 \\u6211\\u53bb\\u628a\\u706b\\u8f66\\u5f00\\u8fc7\\u6765 \\u9001\\u4f60\\u53bb\\u89c1\\u6731\\u81ea\\u6e05.\", \"avatar\": \"http://i1.hdslb.com/bfs/face/a117987f0b91311998283b9d8a014471ccb12aa1.jpg\", \"rank\": \"10000\", \"DisplayRank\": \"0\", \"level_info\": {\"current_level\": 4, \"current_min\": 0, \"current_exp\": 0, \"next_exp\": 0}, \"pendant\": {\"pid\": 3641, \"name\": \"\\u667a\\u6167\\u4e3b\\u4e49\\u5f88\\u4e0a\\u5934\", \"image\": \"http://i0.hdslb.com/bfs/garb/item/b1c552d9a948cb2da5629281da674a8221cd7154.png\", \"expire\": 0, \"image_enhance\": \"http://i0.hdslb.com/bfs/garb/item/b1c552d9a948cb2da5629281da674a8221cd7154.png\", \"image_enhance_frame\": \"\"}, \"nameplate\": {\"nid\": 57, \"name\": \"\\u6536\\u96c6\\u840c\\u65b0\", \"image\": \"http://i2.hdslb.com/bfs/face/7767275600ea63d351b22fa87ec15a79aa24e5e5.png\", \"image_small\": \"http://i1.hdslb.com/bfs/face/6589d992655595bf51543f268040eaeaed372fae.png\", \"level\": \"\\u666e\\u901a\\u52cb\\u7ae0\", \"condition\": \"\\u540c\\u65f6\\u62e5\\u6709\\u7c89\\u4e1d\\u52cb\\u7ae0>=5\\u4e2a\"}, \"official_verify\": {\"type\": -1, \"desc\": \"\"}, \"vip\": {\"vipType\": 1, \"vipDueDate\": 1612195200000, \"dueRemark\": \"\", \"accessStatus\": 0, \"vipStatus\": 1, \"vipStatusWarn\": \"\", \"themeType\": 0, \"label\": {\"path\": \"\", \"text\": \"\\u5927\\u4f1a\\u5458\", \"label_theme\": \"vip\"}}, \"fans_detail\": null, \"following\": 0, \"is_followed\": 0, \"user_sailing\": {\"pendant\": {\"id\": 3641, \"name\": \"\\u667a\\u6167\\u4e3b\\u4e49\\u5f88\\u4e0a\\u5934\", \"image\": \"http://i0.hdslb.com/bfs/garb/item/b1c552d9a948cb2da5629281da674a8221cd7154.png\", \"jump_url\": \"\", \"type\": \"pay\", \"image_enhance\": \"http://i0.hdslb.com/bfs/garb/item/b1c552d9a948cb2da5629281da674a8221cd7154.png\", \"image_enhance_frame\": \"\"}, \"cardbg\": null, \"cardbg_with_focus\": null}}, \"content\": {\"message\": \"\\u7cbe\\u5370\\uff1a%**%#+*\", \"plat\": 3, \"device\": \"phone\", \"members\": [], \"jump_url\": {}, \"max_line\": 6}, \"replies\": null, \"assist\": 0, \"folder\": {\"has_folded\": false, \"is_folded\": false, \"rule\": \"https://www.bilibili.com/blackboard/foldingreply.html\"}, \"up_action\": {\"like\": false, \"reply\": false}, \"show_follow\": false, \"invisible\": false}\n",
    "```\n",
    "\n",
    "### Structure of  Comment\n",
    "In order to gain an overview of the structure of the data, convert json to tree using this [tool](https://vanya.jp.net/vtree/):\n",
    "![structure-of-comment](data/data[1].svg)\n",
    "\n"
   ]
  },
  {
   "cell_type": "code",
   "execution_count": 3,
   "id": "inside-reducing",
   "metadata": {},
   "outputs": [],
   "source": [
    "df = pd.read_csv('./data/data.csv')"
   ]
  },
  {
   "cell_type": "code",
   "execution_count": 4,
   "id": "absent-middle",
   "metadata": {},
   "outputs": [
    {
     "name": "stdout",
     "output_type": "stream",
     "text": [
      "<class 'pandas.core.frame.DataFrame'>\n",
      "RangeIndex: 11402 entries, 0 to 11401\n",
      "Data columns (total 67 columns):\n",
      " #   Column                                                                     Non-Null Count  Dtype  \n",
      "---  ------                                                                     --------------  -----  \n",
      " 0   3061361771                                                                 11402 non-null  int64  \n",
      " 1   286054084                                                                  11402 non-null  int64  \n",
      " 2   1                                                                          11402 non-null  int64  \n",
      " 3   178820467                                                                  11402 non-null  int64  \n",
      " 4   0                                                                          11402 non-null  int64  \n",
      " 5   0.1                                                                        11402 non-null  int64  \n",
      " 6   0.2                                                                        11402 non-null  int64  \n",
      " 7   506                                                                        11402 non-null  int64  \n",
      " 8   397                                                                        11402 non-null  int64  \n",
      " 9   0.3                                                                        11402 non-null  int64  \n",
      " 10  0.4                                                                        11402 non-null  int64  \n",
      " 11  1024                                                                       11402 non-null  int64  \n",
      " 12  1592622371                                                                 11402 non-null  int64  \n",
      " 13  3061361771.1                                                               11402 non-null  int64  \n",
      " 14  0.5                                                                        11402 non-null  int64  \n",
      " 15  0.6                                                                        11402 non-null  int64  \n",
      " 16  54784                                                                      11402 non-null  int64  \n",
      " 17  0.7                                                                        11402 non-null  int64  \n",
      " 18  178820467.1                                                                11402 non-null  int64  \n",
      " 19  crushonyou-                                                                11402 non-null  object \n",
      " 20  保密                                                                         11402 non-null  object \n",
      " 21  Bigbang cardib\n",
      "                                                            5801 non-null   object \n",
      " 22  http://i1.hdslb.com/bfs/face/1a9244ee5fedc62bc349fc113e0fe5f824031f3a.jpg  11402 non-null  object \n",
      " 23  10000                                                                      11402 non-null  int64  \n",
      " 24  0.8                                                                        11402 non-null  int64  \n",
      " 25  5                                                                          11402 non-null  int64  \n",
      " 26  0.9                                                                        11402 non-null  int64  \n",
      " 27  0.10                                                                       11402 non-null  int64  \n",
      " 28  0.11                                                                       11402 non-null  int64  \n",
      " 29  0.12                                                                       11402 non-null  int64  \n",
      " 30  Unnamed: 30                                                                2483 non-null   object \n",
      " 31  Unnamed: 31                                                                2483 non-null   object \n",
      " 32  0.13                                                                       11402 non-null  int64  \n",
      " 33  Unnamed: 33                                                                2483 non-null   object \n",
      " 34  Unnamed: 34                                                                203 non-null    object \n",
      " 35  0.14                                                                       11402 non-null  int64  \n",
      " 36  Unnamed: 36                                                                2396 non-null   object \n",
      " 37  Unnamed: 37                                                                2396 non-null   object \n",
      " 38  Unnamed: 38                                                                2396 non-null   object \n",
      " 39  Unnamed: 39                                                                2396 non-null   object \n",
      " 40  Unnamed: 40                                                                2396 non-null   object \n",
      " 41  -1                                                                         11402 non-null  int64  \n",
      " 42  Unnamed: 42                                                                9 non-null      object \n",
      " 43  0.15                                                                       11402 non-null  int64  \n",
      " 44  0.16                                                                       11402 non-null  int64  \n",
      " 45  Unnamed: 45                                                                0 non-null      float64\n",
      " 46  0.17                                                                       11402 non-null  int64  \n",
      " 47  0.18                                                                       11402 non-null  int64  \n",
      " 48  Unnamed: 48                                                                0 non-null      float64\n",
      " 49  0.19                                                                       11402 non-null  int64  \n",
      " 50  Unnamed: 50                                                                0 non-null      float64\n",
      " 51  Unnamed: 51                                                                5091 non-null   object \n",
      " 52  Unnamed: 52                                                                5091 non-null   object \n",
      " 53  0.20                                                                       11402 non-null  int64  \n",
      " 54  0.21                                                                       11402 non-null  int64  \n",
      " 55  “我想了十天十夜也想不通……”                                                            11402 non-null  object \n",
      " 56  3                                                                          11402 non-null  int64  \n",
      " 57  phone                                                                      1667 non-null   object \n",
      " 58  6                                                                          11402 non-null  int64  \n",
      " 59  0.22                                                                       11402 non-null  int64  \n",
      " 60  False                                                                      11402 non-null  bool   \n",
      " 61  False.1                                                                    11402 non-null  bool   \n",
      " 62  https://www.bilibili.com/blackboard/foldingreply.html                      11402 non-null  object \n",
      " 63  False.2                                                                    11402 non-null  bool   \n",
      " 64  False.3                                                                    11402 non-null  bool   \n",
      " 65  False.4                                                                    11402 non-null  bool   \n",
      " 66  False.5                                                                    11402 non-null  bool   \n",
      "dtypes: bool(6), float64(3), int64(39), object(19)\n",
      "memory usage: 5.4+ MB\n"
     ]
    }
   ],
   "source": [
    "df.info()"
   ]
  },
  {
   "cell_type": "code",
   "execution_count": null,
   "id": "caroline-dream",
   "metadata": {},
   "outputs": [],
   "source": []
  }
 ],
 "metadata": {
  "kernelspec": {
   "display_name": "Python 3",
   "language": "python",
   "name": "python3"
  },
  "language_info": {
   "codemirror_mode": {
    "name": "ipython",
    "version": 3
   },
   "file_extension": ".py",
   "mimetype": "text/x-python",
   "name": "python",
   "nbconvert_exporter": "python",
   "pygments_lexer": "ipython3",
   "version": "3.8.1"
  }
 },
 "nbformat": 4,
 "nbformat_minor": 5
}
