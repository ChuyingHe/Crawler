{
 "cells": [
  {
   "cell_type": "markdown",
   "id": "veterinary-doctrine",
   "metadata": {},
   "source": [
    "# 0. Import"
   ]
  },
  {
   "cell_type": "code",
   "execution_count": 77,
   "id": "configured-modeling",
   "metadata": {},
   "outputs": [],
   "source": [
    "import pandas as pd\n",
    "import networkx as nx\n",
    "import json\n",
    "import csv\n",
    "import os\n",
    "import scipy\n",
    "import matplotlib.pyplot as plt\n",
    "from matplotlib.pyplot import MultipleLocator\n",
    "import numpy as np"
   ]
  },
  {
   "cell_type": "markdown",
   "id": "tested-oxford",
   "metadata": {},
   "source": [
    "# 1. Clean"
   ]
  },
  {
   "cell_type": "code",
   "execution_count": 90,
   "id": "floppy-vanilla",
   "metadata": {},
   "outputs": [],
   "source": [
    "comments_df = pd.read_csv('./data/node.csv', sep = ',', error_bad_lines=False)"
   ]
  },
  {
   "cell_type": "code",
   "execution_count": 91,
   "id": "downtown-release",
   "metadata": {},
   "outputs": [
    {
     "data": {
      "text/html": [
       "<div>\n",
       "<style scoped>\n",
       "    .dataframe tbody tr th:only-of-type {\n",
       "        vertical-align: middle;\n",
       "    }\n",
       "\n",
       "    .dataframe tbody tr th {\n",
       "        vertical-align: top;\n",
       "    }\n",
       "\n",
       "    .dataframe thead th {\n",
       "        text-align: right;\n",
       "    }\n",
       "</style>\n",
       "<table border=\"1\" class=\"dataframe\">\n",
       "  <thead>\n",
       "    <tr style=\"text-align: right;\">\n",
       "      <th></th>\n",
       "      <th>rpid</th>\n",
       "      <th>oid</th>\n",
       "      <th>type</th>\n",
       "      <th>mid</th>\n",
       "      <th>root</th>\n",
       "      <th>parent</th>\n",
       "      <th>dialog</th>\n",
       "      <th>count</th>\n",
       "      <th>rcount</th>\n",
       "      <th>state</th>\n",
       "      <th>...</th>\n",
       "      <th>content.device</th>\n",
       "      <th>content.max_line</th>\n",
       "      <th>assist</th>\n",
       "      <th>folder.has_folded</th>\n",
       "      <th>folder.is_folded</th>\n",
       "      <th>folder.rule</th>\n",
       "      <th>up_action.like</th>\n",
       "      <th>up_action.reply</th>\n",
       "      <th>show_follow</th>\n",
       "      <th>invisible</th>\n",
       "    </tr>\n",
       "  </thead>\n",
       "  <tbody>\n",
       "    <tr>\n",
       "      <th>0</th>\n",
       "      <td>3061361771</td>\n",
       "      <td>286054084</td>\n",
       "      <td>1</td>\n",
       "      <td>178820467</td>\n",
       "      <td>0</td>\n",
       "      <td>0</td>\n",
       "      <td>0</td>\n",
       "      <td>508</td>\n",
       "      <td>398</td>\n",
       "      <td>0</td>\n",
       "      <td>...</td>\n",
       "      <td>phone</td>\n",
       "      <td>6</td>\n",
       "      <td>0</td>\n",
       "      <td>False</td>\n",
       "      <td>False</td>\n",
       "      <td>https://www.bilibili.com/blackboard/foldingrep...</td>\n",
       "      <td>False</td>\n",
       "      <td>False</td>\n",
       "      <td>False</td>\n",
       "      <td>False</td>\n",
       "    </tr>\n",
       "    <tr>\n",
       "      <th>1</th>\n",
       "      <td>3061437039</td>\n",
       "      <td>286054084</td>\n",
       "      <td>1</td>\n",
       "      <td>81922299</td>\n",
       "      <td>3061361771</td>\n",
       "      <td>3061361771</td>\n",
       "      <td>3061437039</td>\n",
       "      <td>0</td>\n",
       "      <td>0</td>\n",
       "      <td>0</td>\n",
       "      <td>...</td>\n",
       "      <td>NaN</td>\n",
       "      <td>999</td>\n",
       "      <td>0</td>\n",
       "      <td>False</td>\n",
       "      <td>False</td>\n",
       "      <td>NaN</td>\n",
       "      <td>False</td>\n",
       "      <td>False</td>\n",
       "      <td>False</td>\n",
       "      <td>False</td>\n",
       "    </tr>\n",
       "    <tr>\n",
       "      <th>2</th>\n",
       "      <td>3061442881</td>\n",
       "      <td>286054084</td>\n",
       "      <td>1</td>\n",
       "      <td>353195885</td>\n",
       "      <td>3061361771</td>\n",
       "      <td>3061361771</td>\n",
       "      <td>3061442881</td>\n",
       "      <td>0</td>\n",
       "      <td>0</td>\n",
       "      <td>0</td>\n",
       "      <td>...</td>\n",
       "      <td>NaN</td>\n",
       "      <td>999</td>\n",
       "      <td>0</td>\n",
       "      <td>False</td>\n",
       "      <td>False</td>\n",
       "      <td>NaN</td>\n",
       "      <td>False</td>\n",
       "      <td>False</td>\n",
       "      <td>False</td>\n",
       "      <td>False</td>\n",
       "    </tr>\n",
       "    <tr>\n",
       "      <th>3</th>\n",
       "      <td>3061455886</td>\n",
       "      <td>286054084</td>\n",
       "      <td>1</td>\n",
       "      <td>104679926</td>\n",
       "      <td>3061361771</td>\n",
       "      <td>3061361771</td>\n",
       "      <td>3061455886</td>\n",
       "      <td>0</td>\n",
       "      <td>0</td>\n",
       "      <td>0</td>\n",
       "      <td>...</td>\n",
       "      <td>NaN</td>\n",
       "      <td>999</td>\n",
       "      <td>0</td>\n",
       "      <td>False</td>\n",
       "      <td>False</td>\n",
       "      <td>NaN</td>\n",
       "      <td>False</td>\n",
       "      <td>False</td>\n",
       "      <td>False</td>\n",
       "      <td>False</td>\n",
       "    </tr>\n",
       "    <tr>\n",
       "      <th>4</th>\n",
       "      <td>3061451247</td>\n",
       "      <td>286054084</td>\n",
       "      <td>1</td>\n",
       "      <td>431900364</td>\n",
       "      <td>3061361771</td>\n",
       "      <td>3061361771</td>\n",
       "      <td>3061451247</td>\n",
       "      <td>0</td>\n",
       "      <td>0</td>\n",
       "      <td>0</td>\n",
       "      <td>...</td>\n",
       "      <td>NaN</td>\n",
       "      <td>999</td>\n",
       "      <td>0</td>\n",
       "      <td>False</td>\n",
       "      <td>False</td>\n",
       "      <td>NaN</td>\n",
       "      <td>False</td>\n",
       "      <td>False</td>\n",
       "      <td>False</td>\n",
       "      <td>False</td>\n",
       "    </tr>\n",
       "  </tbody>\n",
       "</table>\n",
       "<p>5 rows × 67 columns</p>\n",
       "</div>"
      ],
      "text/plain": [
       "         rpid        oid  type        mid        root      parent      dialog  \\\n",
       "0  3061361771  286054084     1  178820467           0           0           0   \n",
       "1  3061437039  286054084     1   81922299  3061361771  3061361771  3061437039   \n",
       "2  3061442881  286054084     1  353195885  3061361771  3061361771  3061442881   \n",
       "3  3061455886  286054084     1  104679926  3061361771  3061361771  3061455886   \n",
       "4  3061451247  286054084     1  431900364  3061361771  3061361771  3061451247   \n",
       "\n",
       "   count  rcount  state  ...  content.device  content.max_line  assist  \\\n",
       "0    508     398      0  ...           phone                 6       0   \n",
       "1      0       0      0  ...             NaN               999       0   \n",
       "2      0       0      0  ...             NaN               999       0   \n",
       "3      0       0      0  ...             NaN               999       0   \n",
       "4      0       0      0  ...             NaN               999       0   \n",
       "\n",
       "   folder.has_folded  folder.is_folded  \\\n",
       "0              False             False   \n",
       "1              False             False   \n",
       "2              False             False   \n",
       "3              False             False   \n",
       "4              False             False   \n",
       "\n",
       "                                         folder.rule  up_action.like  \\\n",
       "0  https://www.bilibili.com/blackboard/foldingrep...           False   \n",
       "1                                                NaN           False   \n",
       "2                                                NaN           False   \n",
       "3                                                NaN           False   \n",
       "4                                                NaN           False   \n",
       "\n",
       "   up_action.reply  show_follow invisible  \n",
       "0            False        False     False  \n",
       "1            False        False     False  \n",
       "2            False        False     False  \n",
       "3            False        False     False  \n",
       "4            False        False     False  \n",
       "\n",
       "[5 rows x 67 columns]"
      ]
     },
     "execution_count": 91,
     "metadata": {},
     "output_type": "execute_result"
    }
   ],
   "source": [
    "comments_df.head()"
   ]
  },
  {
   "cell_type": "code",
   "execution_count": 92,
   "id": "moderate-sheriff",
   "metadata": {},
   "outputs": [],
   "source": [
    "comments_df = comments_df.replace('\\n', ' ', regex = True)\n",
    "comments_df = comments_df.replace('\\r', ' ', regex = True)\n",
    "comments_df = comments_df.replace('\\t', ' ', regex = True)"
   ]
  },
  {
   "cell_type": "code",
   "execution_count": 93,
   "id": "placed-local",
   "metadata": {},
   "outputs": [
    {
     "name": "stdout",
     "output_type": "stream",
     "text": [
      "rpid has 18885 unique values\n",
      "oid has 1 unique values\n",
      "type has 1 unique values\n",
      "mid has 14617 unique values\n",
      "root has 1122 unique values\n",
      "parent has 3124 unique values\n",
      "dialog has 5034 unique values\n",
      "count has 65 unique values\n",
      "rcount has 61 unique values\n",
      "state has 1 unique values\n",
      "fansgrade has 2 unique values\n",
      "attr has 3 unique values\n",
      "ctime has 16496 unique values\n",
      "rpid_str has 18885 unique values\n",
      "root_str has 1122 unique values\n",
      "parent_str has 3124 unique values\n",
      "like has 396 unique values\n",
      "action has 1 unique values\n",
      "member.mid has 14617 unique values\n",
      "member.uname has 14572 unique values\n",
      "member.sex has 3 unique values\n",
      "member.sign has 7387 unique values\n",
      "member.avatar has 14612 unique values\n",
      "member.rank has 2 unique values\n",
      "member.DisplayRank has 1 unique values\n",
      "member.level_info.current_level has 6 unique values\n",
      "member.level_info.current_min has 1 unique values\n",
      "member.level_info.current_exp has 1 unique values\n",
      "member.level_info.next_exp has 1 unique values\n",
      "member.pendant.pid has 216 unique values\n",
      "member.pendant.name has 213 unique values\n",
      "member.pendant.image has 480 unique values\n",
      "member.pendant.expire has 1 unique values\n",
      "member.pendant.image_enhance has 480 unique values\n",
      "member.pendant.image_enhance_frame has 24 unique values\n",
      "member.nameplate.nid has 33 unique values\n",
      "member.nameplate.name has 33 unique values\n",
      "member.nameplate.image has 90 unique values\n",
      "member.nameplate.image_small has 90 unique values\n",
      "member.nameplate.level has 4 unique values\n",
      "member.nameplate.condition has 33 unique values\n",
      "member.official_verify.type has 2 unique values\n",
      "member.official_verify.desc has 5 unique values\n",
      "member.vip.vipType has 3 unique values\n",
      "member.vip.vipDueDate has 1583 unique values\n",
      "member.vip.dueRemark has 1 unique values\n",
      "member.vip.accessStatus has 1 unique values\n",
      "member.vip.vipStatus has 2 unique values\n",
      "member.vip.vipStatusWarn has 1 unique values\n",
      "member.vip.themeType has 1 unique values\n",
      "member.vip.label.path has 1 unique values\n",
      "member.vip.label.text has 4 unique values\n",
      "member.vip.label.label_theme has 4 unique values\n",
      "member.following has 1 unique values\n",
      "member.is_followed has 1 unique values\n",
      "content.message has 17757 unique values\n",
      "content.plat has 6 unique values\n",
      "content.device has 4 unique values\n",
      "content.max_line has 2 unique values\n",
      "assist has 1 unique values\n",
      "folder.has_folded has 1 unique values\n",
      "folder.is_folded has 1 unique values\n",
      "folder.rule has 2 unique values\n",
      "up_action.like has 1 unique values\n",
      "up_action.reply has 1 unique values\n",
      "show_follow has 1 unique values\n",
      "invisible has 1 unique values\n"
     ]
    }
   ],
   "source": [
    "print(f\"rpid has {len(comments_df['rpid'].unique())} unique values\")\n",
    "print(f\"oid has {len(comments_df['oid'].unique())} unique values\")\n",
    "print(f\"type has {len(comments_df['type'].unique())} unique values\")\n",
    "print(f\"mid has {len(comments_df['mid'].unique())} unique values\")\n",
    "print(f\"root has {len(comments_df['root'].unique())} unique values\")\n",
    "print(f\"parent has {len(comments_df['parent'].unique())} unique values\")\n",
    "print(f\"dialog has {len(comments_df['dialog'].unique())} unique values\")\n",
    "print(f\"count has {len(comments_df['count'].unique())} unique values\")\n",
    "print(f\"rcount has {len(comments_df['rcount'].unique())} unique values\")\n",
    "print(f\"state has {len(comments_df['state'].unique())} unique values\")\n",
    "print(f\"fansgrade has {len(comments_df['fansgrade'].unique())} unique values\")\n",
    "print(f\"attr has {len(comments_df['attr'].unique())} unique values\")\n",
    "print(f\"ctime has {len(comments_df['ctime'].unique())} unique values\")\n",
    "print(f\"rpid_str has {len(comments_df['rpid_str'].unique())} unique values\")\n",
    "print(f\"root_str has {len(comments_df['root_str'].unique())} unique values\")\n",
    "print(f\"parent_str has {len(comments_df['parent_str'].unique())} unique values\")\n",
    "print(f\"like has {len(comments_df['like'].unique())} unique values\")\n",
    "print(f\"action has {len(comments_df['action'].unique())} unique values\")\n",
    "print(f\"member.mid has {len(comments_df['member.mid'].unique())} unique values\")\n",
    "print(f\"member.uname has {len(comments_df['member.uname'].unique())} unique values\")\n",
    "print(f\"member.sex has {len(comments_df['member.sex'].unique())} unique values\")\n",
    "print(f\"member.sign has {len(comments_df['member.sign'].unique())} unique values\")\n",
    "print(f\"member.avatar has {len(comments_df['member.avatar'].unique())} unique values\")\n",
    "print(f\"member.rank has {len(comments_df['member.rank'].unique())} unique values\")\n",
    "print(f\"member.DisplayRank has {len(comments_df['member.DisplayRank'].unique())} unique values\")\n",
    "print(f\"member.level_info.current_level has {len(comments_df['member.level_info.current_level'].unique())} unique values\")\n",
    "print(f\"member.level_info.current_min has {len(comments_df['member.level_info.current_min'].unique())} unique values\")\n",
    "print(f\"member.level_info.current_exp has {len(comments_df['member.level_info.current_exp'].unique())} unique values\")\n",
    "print(f\"member.level_info.next_exp has {len(comments_df['member.level_info.next_exp'].unique())} unique values\")\n",
    "print(f\"member.pendant.pid has {len(comments_df['member.pendant.pid'].unique())} unique values\")\n",
    "print(f\"member.pendant.name has {len(comments_df['member.pendant.name'].unique())} unique values\")\n",
    "print(f\"member.pendant.image has {len(comments_df['member.pendant.image'].unique())} unique values\")\n",
    "print(f\"member.pendant.expire has {len(comments_df['member.pendant.expire'].unique())} unique values\")\n",
    "print(f\"member.pendant.image_enhance has {len(comments_df['member.pendant.image_enhance'].unique())} unique values\")\n",
    "print(f\"member.pendant.image_enhance_frame has {len(comments_df['member.pendant.image_enhance_frame'].unique())} unique values\")\n",
    "print(f\"member.nameplate.nid has {len(comments_df['member.nameplate.nid'].unique())} unique values\")\n",
    "print(f\"member.nameplate.name has {len(comments_df['member.nameplate.name'].unique())} unique values\")\n",
    "print(f\"member.nameplate.image has {len(comments_df['member.nameplate.image'].unique())} unique values\")\n",
    "print(f\"member.nameplate.image_small has {len(comments_df['member.nameplate.image_small'].unique())} unique values\")\n",
    "print(f\"member.nameplate.level has {len(comments_df['member.nameplate.level'].unique())} unique values\")\n",
    "print(f\"member.nameplate.condition has {len(comments_df['member.nameplate.condition'].unique())} unique values\")\n",
    "print(f\"member.official_verify.type has {len(comments_df['member.official_verify.type'].unique())} unique values\")\n",
    "print(f\"member.official_verify.desc has {len(comments_df['member.official_verify.desc'].unique())} unique values\")\n",
    "print(f\"member.vip.vipType has {len(comments_df['member.vip.vipType'].unique())} unique values\")\n",
    "print(f\"member.vip.vipDueDate has {len(comments_df['member.vip.vipDueDate'].unique())} unique values\")\n",
    "print(f\"member.vip.dueRemark has {len(comments_df['member.vip.dueRemark'].unique())} unique values\")\n",
    "print(f\"member.vip.accessStatus has {len(comments_df['member.vip.accessStatus'].unique())} unique values\")\n",
    "print(f\"member.vip.vipStatus has {len(comments_df['member.vip.vipStatus'].unique())} unique values\")\n",
    "print(f\"member.vip.vipStatusWarn has {len(comments_df['member.vip.vipStatusWarn'].unique())} unique values\")\n",
    "print(f\"member.vip.themeType has {len(comments_df['member.vip.themeType'].unique())} unique values\")\n",
    "print(f\"member.vip.label.path has {len(comments_df['member.vip.label.path'].unique())} unique values\")\n",
    "print(f\"member.vip.label.text has {len(comments_df['member.vip.label.text'].unique())} unique values\")\n",
    "print(f\"member.vip.label.label_theme has {len(comments_df['member.vip.label.label_theme'].unique())} unique values\")\n",
    "print(f\"member.following has {len(comments_df['member.following'].unique())} unique values\")\n",
    "print(f\"member.is_followed has {len(comments_df['member.is_followed'].unique())} unique values\")\n",
    "print(f\"content.message has {len(comments_df['content.message'].unique())} unique values\")\n",
    "print(f\"content.plat has {len(comments_df['content.plat'].unique())} unique values\")\n",
    "print(f\"content.device has {len(comments_df['content.device'].unique())} unique values\")\n",
    "print(f\"content.max_line has {len(comments_df['content.max_line'].unique())} unique values\")\n",
    "print(f\"assist has {len(comments_df['assist'].unique())} unique values\")\n",
    "print(f\"folder.has_folded has {len(comments_df['folder.has_folded'].unique())} unique values\")\n",
    "print(f\"folder.is_folded has {len(comments_df['folder.is_folded'].unique())} unique values\")\n",
    "print(f\"folder.rule has {len(comments_df['folder.rule'].unique())} unique values\")\n",
    "print(f\"up_action.like has {len(comments_df['up_action.like'].unique())} unique values\")\n",
    "print(f\"up_action.reply has {len(comments_df['up_action.reply'].unique())} unique values\")\n",
    "print(f\"show_follow has {len(comments_df['show_follow'].unique())} unique values\")\n",
    "print(f\"invisible has {len(comments_df['invisible'].unique())} unique values\")"
   ]
  },
  {
   "cell_type": "code",
   "execution_count": 94,
   "id": "proved-karma",
   "metadata": {},
   "outputs": [],
   "source": [
    "# filter out the column with unique value: \n",
    "# also delete 'rpid_str', 'root_str', 'parent_str'\n",
    "# delete member.id because it duplicates the mid\n",
    "useful_features = ['rpid', 'mid', 'root', 'parent', 'dialog', 'count', 'rcount', 'fansgrade', \n",
    "                   'attr', 'ctime', 'like', 'member.uname', 'member.sex', 'member.sign', 'member.avatar', \n",
    "                   'member.level_info.current_level', 'member.pendant.pid', 'member.pendant.name', \n",
    "                   'member.pendant.image', 'member.pendant.image_enhance', 'member.pendant.image_enhance_frame', \n",
    "                   'member.nameplate.nid', 'member.nameplate.name', 'member.nameplate.image', \n",
    "                   'member.nameplate.image_small', 'member.nameplate.level', \n",
    "                   'member.nameplate.condition', 'member.official_verify.type', \n",
    "                   'member.official_verify.desc', 'member.vip.vipType', 'member.vip.vipDueDate', \n",
    "                   'member.vip.label.text', 'member.vip.label.label_theme', \n",
    "                   'content.message', 'content.plat', 'content.device', 'content.max_line', 'folder.rule']\n",
    "dataframe = comments_df[useful_features]"
   ]
  },
  {
   "cell_type": "code",
   "execution_count": 95,
   "id": "compact-suspension",
   "metadata": {},
   "outputs": [],
   "source": [
    "# publishing time of the video has the unix timestamp:\n",
    "# - china time: 2020-06-20 05:04:47\n",
    "# - GMT: 2020-06-19 21:04:47\n",
    "# - Epoch timestamp: 1592600687\n",
    "#publish_unix = 1592600687\n",
    "#comments_df['ctime'] -=1592600687"
   ]
  },
  {
   "cell_type": "code",
   "execution_count": 96,
   "id": "adaptive-vacation",
   "metadata": {},
   "outputs": [
    {
     "name": "stdout",
     "output_type": "stream",
     "text": [
      "<class 'pandas.core.series.Series'>\n",
      "1592622298\n",
      "1612019093\n"
     ]
    }
   ],
   "source": [
    "print(type(comments_df['ctime']))\n",
    "print(comments_df['ctime'].min())\n",
    "print(comments_df['ctime'].max())"
   ]
  },
  {
   "cell_type": "markdown",
   "id": "frank-timber",
   "metadata": {},
   "source": [
    "# 3. Save as comment.csv"
   ]
  },
  {
   "cell_type": "code",
   "execution_count": 97,
   "id": "seeing-smith",
   "metadata": {},
   "outputs": [],
   "source": [
    "cwd = os.getcwd()\n",
    "directory = cwd + '/data/comment.csv'\n",
    "dataframe.to_csv(directory, encoding=\"utf_8_sig\", index=False)"
   ]
  },
  {
   "cell_type": "markdown",
   "id": "sublime-nashville",
   "metadata": {},
   "source": [
    "# 4. Analytics"
   ]
  },
  {
   "cell_type": "markdown",
   "id": "turkish-blair",
   "metadata": {},
   "source": [
    "### (1) node size - 'count'"
   ]
  },
  {
   "cell_type": "code",
   "execution_count": 98,
   "id": "saving-custody",
   "metadata": {},
   "outputs": [
    {
     "name": "stdout",
     "output_type": "stream",
     "text": [
      "21034\n",
      "Zero has the ratio of 19644 / 21034. There are only 1390 non-zero values\n"
     ]
    },
    {
     "data": {
      "text/plain": [
       "(array([2.1012e+04, 7.0000e+00, 5.0000e+00, 3.0000e+00, 3.0000e+00,\n",
       "        0.0000e+00, 2.0000e+00, 1.0000e+00, 0.0000e+00, 1.0000e+00]),\n",
       " array([  0. ,  78.8, 157.6, 236.4, 315.2, 394. , 472.8, 551.6, 630.4,\n",
       "        709.2, 788. ]),\n",
       " <BarContainer object of 10 artists>)"
      ]
     },
     "execution_count": 98,
     "metadata": {},
     "output_type": "execute_result"
    },
    {
     "data": {
      "image/png": "[encoded data removed]",
      "text/plain": [
       "<Figure size 432x288 with 1 Axes>"
      ]
     },
     "metadata": {
      "needs_background": "light"
     },
     "output_type": "display_data"
    }
   ],
   "source": [
    "max(comments_df['count'])\n",
    "print(len(comments_df['count']))\n",
    "count = 0\n",
    "total = 0\n",
    "for v in comments_df['count']:\n",
    "    total +=1\n",
    "    if v==0:\n",
    "        count += 1\n",
    "\n",
    "print(f'Zero has the ratio of {count} / {total}. There are only {total-count} non-zero values')\n",
    "plt.hist(comments_df['count'])\n"
   ]
  },
  {
   "cell_type": "code",
   "execution_count": 99,
   "id": "authentic-bobby",
   "metadata": {},
   "outputs": [
    {
     "name": "stdout",
     "output_type": "stream",
     "text": [
      "[508, 518, 219, 624, 138, 211, 788, 333, 229, 346, 304, 113, 247, 202, 314, 175, 355, 110, 128]\n",
      "we have 1251 comments has less than 10 replies (non-zero)\n",
      "we have 120 comments has less than 100 replies (non-zero)\n",
      "we have 19 comments has more than 100 replies (non-zero)\n"
     ]
    }
   ],
   "source": [
    "# dict_under_100 = {v for v in comments_df['count'] if v<100}\n",
    "dict_under_10 = []\n",
    "dict_under_100 = []\n",
    "dict_above_100 = []\n",
    "zero =0\n",
    "for v in comments_df['count']:\n",
    "    if v==0:\n",
    "        zero+=1\n",
    "    else:\n",
    "        if v < 10:\n",
    "            dict_under_10.append(v)\n",
    "        elif v < 100:\n",
    "            dict_under_100.append(v)\n",
    "        else:\n",
    "            dict_above_100.append(v)\n",
    "        \n",
    "print(dict_above_100)\n",
    "print(f'we have {len(dict_under_10)} comments has less than 10 replies (non-zero)')\n",
    "print(f'we have {len(dict_under_100)} comments has less than 100 replies (non-zero)')\n",
    "print(f'we have {len(dict_above_100)} comments has more than 100 replies (non-zero)')"
   ]
  },
  {
   "cell_type": "code",
   "execution_count": 100,
   "id": "tropical-problem",
   "metadata": {},
   "outputs": [
    {
     "data": {
      "text/plain": [
       "(array([30., 26., 12., 14.,  6.,  7.,  2.,  2.,  4.,  2.,  0.,  3.,  0.,\n",
       "         0.,  0.,  3.,  1.,  0.,  1.,  2.,  0.,  1.,  0.,  1.,  0.,  1.,\n",
       "         0.,  0.,  1.,  1.]),\n",
       " array([10.        , 12.86666667, 15.73333333, 18.6       , 21.46666667,\n",
       "        24.33333333, 27.2       , 30.06666667, 32.93333333, 35.8       ,\n",
       "        38.66666667, 41.53333333, 44.4       , 47.26666667, 50.13333333,\n",
       "        53.        , 55.86666667, 58.73333333, 61.6       , 64.46666667,\n",
       "        67.33333333, 70.2       , 73.06666667, 75.93333333, 78.8       ,\n",
       "        81.66666667, 84.53333333, 87.4       , 90.26666667, 93.13333333,\n",
       "        96.        ]),\n",
       " <BarContainer object of 30 artists>)"
      ]
     },
     "execution_count": 100,
     "metadata": {},
     "output_type": "execute_result"
    },
    {
     "data": {
      "image/png": "[encoded data removed]",
      "text/plain": [
       "<Figure size 432x288 with 1 Axes>"
      ]
     },
     "metadata": {
      "needs_background": "light"
     },
     "output_type": "display_data"
    }
   ],
   "source": [
    "plt.hist(dict_under_10,bins=30)\n",
    "plt.hist(dict_under_100,bins=30)"
   ]
  },
  {
   "cell_type": "markdown",
   "id": "environmental-prize",
   "metadata": {},
   "source": [
    "### (2) node color - 'ctime'"
   ]
  },
  {
   "cell_type": "code",
   "execution_count": 101,
   "id": "above-pollution",
   "metadata": {},
   "outputs": [
    {
     "name": "stdout",
     "output_type": "stream",
     "text": [
      "max: 1612019093, min: 1592622298\n"
     ]
    }
   ],
   "source": [
    "idx_max = max(comments_df['ctime'])\n",
    "idx_min = min(comments_df['ctime'])\n",
    "\n",
    "print(f'max: {idx_max}, min: {idx_min}')"
   ]
  },
  {
   "cell_type": "code",
   "execution_count": 102,
   "id": "young-nevada",
   "metadata": {},
   "outputs": [
    {
     "data": {
      "text/plain": [
       "(array([18435.,   876.,   424.,   519.,   419.,    70.,    94.,    63.,\n",
       "           83.,    51.]),\n",
       " array([1.59262230e+09, 1.59456198e+09, 1.59650166e+09, 1.59844134e+09,\n",
       "        1.60038102e+09, 1.60232070e+09, 1.60426038e+09, 1.60620005e+09,\n",
       "        1.60813973e+09, 1.61007941e+09, 1.61201909e+09]),\n",
       " <BarContainer object of 10 artists>)"
      ]
     },
     "execution_count": 102,
     "metadata": {},
     "output_type": "execute_result"
    },
    {
     "data": {
      "image/png": "[encoded data removed]",
      "text/plain": [
       "<Figure size 432x288 with 1 Axes>"
      ]
     },
     "metadata": {
      "needs_background": "light"
     },
     "output_type": "display_data"
    }
   ],
   "source": [
    "plt.hist(comments_df['ctime'])"
   ]
  },
  {
   "cell_type": "code",
   "execution_count": 132,
   "id": "monthly-cincinnati",
   "metadata": {},
   "outputs": [
    {
     "name": "stdout",
     "output_type": "stream",
     "text": [
      "1592636687\n",
      "0.18546163354568793\n"
     ]
    },
    {
     "data": {
      "image/png": "[encoded data removed]",
      "text/plain": [
       "<Figure size 432x288 with 1 Axes>"
      ]
     },
     "metadata": {
      "needs_background": "light"
     },
     "output_type": "display_data"
    }
   ],
   "source": [
    "# 10 hours (cummulative)\n",
    "pub_hour = 1592600687\n",
    "unix_hour = 3600\n",
    "time = pub_hour + unix_hour*10\n",
    "print(time)\n",
    "ctime = {v for v in comments_df['ctime'] if v < time}\n",
    "plt.hist(ctime)\n",
    "print(len(ctime)/len(comments_df['ctime']))"
   ]
  },
  {
   "cell_type": "code",
   "execution_count": 134,
   "id": "official-agriculture",
   "metadata": {},
   "outputs": [
    {
     "name": "stdout",
     "output_type": "stream",
     "text": [
      "1592687087\n",
      "0.3976894551678235\n"
     ]
    },
    {
     "data": {
      "image/png": "[encoded data removed]",
      "text/plain": [
       "<Figure size 432x288 with 1 Axes>"
      ]
     },
     "metadata": {
      "needs_background": "light"
     },
     "output_type": "display_data"
    }
   ],
   "source": [
    "# 24 hours (cummulative)\n",
    "time = pub_hour + unix_hour*24\n",
    "print(time)\n",
    "ctime = {v for v in comments_df['ctime'] if v < time}\n",
    "plt.hist(ctime)\n",
    "print(len(ctime)/len(comments_df['ctime']))"
   ]
  },
  {
   "cell_type": "code",
   "execution_count": 135,
   "id": "random-logistics",
   "metadata": {},
   "outputs": [
    {
     "name": "stdout",
     "output_type": "stream",
     "text": [
      "1592816687\n",
      "0.5303793857563944\n"
     ]
    },
    {
     "data": {
      "image/png": "[encoded data removed]",
      "text/plain": [
       "<Figure size 432x288 with 1 Axes>"
      ]
     },
     "metadata": {
      "needs_background": "light"
     },
     "output_type": "display_data"
    }
   ],
   "source": [
    "# 60 hours (cummulative)\n",
    "time = pub_hour + unix_hour*60\n",
    "print(time)\n",
    "ctime = {v for v in comments_df['ctime'] if v < time}\n",
    "plt.hist(ctime)\n",
    "print(len(ctime)/len(comments_df['ctime']))"
   ]
  },
  {
   "cell_type": "code",
   "execution_count": 138,
   "id": "embedded-prediction",
   "metadata": {},
   "outputs": [
    {
     "name": "stdout",
     "output_type": "stream",
     "text": [
      "1593464687\n",
      "0.6170961300751164\n"
     ]
    },
    {
     "data": {
      "image/png": "[encoded data removed]",
      "text/plain": [
       "<Figure size 432x288 with 1 Axes>"
      ]
     },
     "metadata": {
      "needs_background": "light"
     },
     "output_type": "display_data"
    }
   ],
   "source": [
    "# 48 hours (cummulative)\n",
    "time = pub_hour + unix_hour*240\n",
    "print(time)\n",
    "ctime = {v for v in comments_df['ctime'] if v < time}\n",
    "plt.hist(ctime)\n",
    "print(len(ctime)/len(comments_df['ctime']))"
   ]
  },
  {
   "cell_type": "code",
   "execution_count": null,
   "id": "accepting-sapphire",
   "metadata": {},
   "outputs": [],
   "source": []
  }
 ],
 "metadata": {
  "kernelspec": {
   "display_name": "Python 3",
   "language": "python",
   "name": "python3"
  },
  "language_info": {
   "codemirror_mode": {
    "name": "ipython",
    "version": 3
   },
   "file_extension": ".py",
   "mimetype": "text/x-python",
   "name": "python",
   "nbconvert_exporter": "python",
   "pygments_lexer": "ipython3",
   "version": "3.8.1"
  }
 },
 "nbformat": 4,
 "nbformat_minor": 5
}
